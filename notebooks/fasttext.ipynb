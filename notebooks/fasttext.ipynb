{
 "cells": [
  {
   "cell_type": "code",
   "execution_count": null,
   "id": "initial_id",
   "metadata": {},
   "outputs": [],
   "source": [
    "import pandas as pd\n",
    "import nltk\n",
    "import string\n",
    "import re\n",
    "from gensim.models.fasttext import FastText\n",
    "from time import time\n",
    "import gensim\n",
    "%matplotlib inline"
   ]
  },
  {
   "cell_type": "code",
   "execution_count": null,
   "id": "2ecc5f9c3ae5984c",
   "metadata": {},
   "outputs": [],
   "source": [
    "tokenizer = nltk.data.load('tokenizers/punkt/russian.pickle')\n",
    "df = pd.read_csv(\"wsd_datasets/texts.csv\")"
   ]
  },
  {
   "cell_type": "code",
   "execution_count": null,
   "id": "563a585134cc356c",
   "metadata": {},
   "outputs": [],
   "source": [
    "text = df[\"text\"].str.replace(r'([^\\w\\s]+)', ' \\\\1 ').str.strip()"
   ]
  },
  {
   "cell_type": "code",
   "execution_count": null,
   "outputs": [],
   "source": [
    "text = text.astype(str)\n",
    "text = text.str.lower()\n",
    "text = \" \".join(map(str, (review for review in text)))\n",
    "print (\"There are {} words in the combination of all review.\".format(len(text)))"
   ],
   "metadata": {
    "collapsed": false
   },
   "id": "adc115a33965d18b"
  },
  {
   "cell_type": "code",
   "execution_count": null,
   "id": "2c05ba381749eaa7",
   "metadata": {},
   "outputs": [],
   "source": [
    "def tokenize(text):\n",
    "    russian_stopwords = set(nltk.corpus.stopwords.words('russian'))\n",
    "\n",
    "    punctuation = re.compile(r\"[\" + string.punctuation + string.ascii_letters + string.digits + \"]\")\n",
    "\n",
    "    words = nltk.word_tokenize(text)\n",
    "\n",
    "    words = [word for word in words if word not in russian_stopwords]\n",
    "\n",
    "    return [word for\n",
    "            word in words\n",
    "            if not re.search(punctuation, word)]"
   ]
  },
  {
   "cell_type": "code",
   "execution_count": null,
   "id": "839f726d349b4763",
   "metadata": {},
   "outputs": [],
   "source": [
    "text_tokens = tokenize(text)"
   ]
  },
  {
   "cell_type": "code",
   "execution_count": null,
   "id": "a82f2f326c582f6b",
   "metadata": {},
   "outputs": [],
   "source": [
    "text = nltk.Text(text_tokens)\n",
    "print(type(text))"
   ]
  },
  {
   "cell_type": "code",
   "execution_count": null,
   "id": "122d7dc3ddc20167",
   "metadata": {},
   "outputs": [],
   "source": [
    "text_raw = \" \".join(text)\n",
    "with open('wsd_datasets/text.txt', 'w') as textfile:\n",
    "    textfile.write(text_raw)\n",
    "    textfile.close()"
   ]
  },
  {
   "cell_type": "code",
   "execution_count": null,
   "id": "55fb72e8b42756b0",
   "metadata": {},
   "outputs": [],
   "source": [
    "data = gensim.models.word2vec.LineSentence('wsd_datasets/text.txt')"
   ]
  },
  {
   "cell_type": "code",
   "execution_count": null,
   "id": "b47a3f80dd208b7",
   "metadata": {},
   "outputs": [],
   "source": [
    "%%time\n",
    "\n",
    "ft_model = gensim.models.KeyedVectors.load(\"models/fasttext-1.4gb/model.model\")\n",
    "t = time()\n",
    "ft_model.build_vocab(data, progress_per=10000, update=True)\n",
    "print('Time to build vocab: {} mins'.format(round((time() - t) / 60, 2)))\n",
    "ft_model.train(data, total_examples=ft_model.corpus_count, epochs=5, report_delay=1)\n",
    "print('Time to train the model: {} mins'.format(round((time() - t) / 60, 2)))"
   ]
  },
  {
   "cell_type": "code",
   "execution_count": null,
   "outputs": [],
   "source": [
    "%%time\n",
    "ft_model = FastText(data, vector_size=100, window=5, min_count=5, workers=4,sg=1)"
   ],
   "metadata": {
    "collapsed": false
   },
   "id": "41bcc7643ccb6662"
  },
  {
   "cell_type": "code",
   "execution_count": null,
   "id": "bc503630a97f8b",
   "metadata": {},
   "outputs": [],
   "source": [
    "ft_model.save(\"models/fasttext.model\")"
   ]
  },
  {
   "cell_type": "code",
   "execution_count": null,
   "id": "3f7e16a0c1a8e635",
   "metadata": {},
   "outputs": [],
   "source": [
    "ft_model.wv.most_similar(positive=[\"депозит\"], topn=20)"
   ]
  },
  {
   "cell_type": "code",
   "execution_count": null,
   "id": "9e4b3742a7f41713",
   "metadata": {},
   "outputs": [],
   "source": [
    "ft_model[\"санация\"]"
   ]
  },
  {
   "cell_type": "code",
   "execution_count": null,
   "outputs": [],
   "source": [],
   "metadata": {
    "collapsed": false
   },
   "id": "b779b67f2cc731fe"
  }
 ],
 "metadata": {
  "kernelspec": {
   "display_name": "Python 3 (ipykernel)",
   "language": "python",
   "name": "python3"
  },
  "language_info": {
   "codemirror_mode": {
    "name": "ipython",
    "version": 3
   },
   "file_extension": ".py",
   "mimetype": "text/x-python",
   "name": "python",
   "nbconvert_exporter": "python",
   "pygments_lexer": "ipython3",
   "version": "3.10.12"
  }
 },
 "nbformat": 4,
 "nbformat_minor": 5
}
