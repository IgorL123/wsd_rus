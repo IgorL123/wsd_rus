{
 "cells": [
  {
   "cell_type": "code",
   "execution_count": 2,
   "id": "initial_id",
   "metadata": {
    "is_executing": true
   },
   "outputs": [],
   "source": [
    "# selenium and chromium must be pre-installed\n",
    "from selenium import webdriver\n",
    "from selenium.webdriver.common.by import By\n",
    "import pandas as pd\n",
    "import traceback\n",
    "from selenium.webdriver.chrome.options import Options\n",
    "from selenium.webdriver.common.desired_capabilities import DesiredCapabilities\n",
    "from fake_useragent import UserAgent\n",
    "from time import sleep"
   ]
  },
  {
   "cell_type": "code",
   "execution_count": 3,
   "id": "c22da5d00daf9317",
   "metadata": {
    "ExecuteTime": {
     "end_time": "2023-09-10T19:04:53.432447077Z",
     "start_time": "2023-09-10T19:04:53.385849867Z"
    }
   },
   "outputs": [],
   "source": [
    "url = \"https://tochka.com/info/glossary/\""
   ]
  },
  {
   "cell_type": "code",
   "execution_count": 115,
   "id": "32c1febf017d6526",
   "metadata": {
    "ExecuteTime": {
     "end_time": "2023-09-10T18:49:45.934529746Z",
     "start_time": "2023-09-10T18:49:41.900225679Z"
    }
   },
   "outputs": [],
   "source": [
    "driver = webdriver.Chrome()"
   ]
  },
  {
   "cell_type": "code",
   "execution_count": 7,
   "id": "dbe639aadfe0562a",
   "metadata": {
    "ExecuteTime": {
     "end_time": "2023-09-10T19:18:26.108156563Z",
     "start_time": "2023-09-10T19:18:26.066300673Z"
    }
   },
   "outputs": [],
   "source": [
    "dtf = pd.DataFrame(columns=[\"letter\", \"url\", \"word\"])"
   ]
  },
  {
   "cell_type": "code",
   "execution_count": 9,
   "id": "ad8bcf94a5f8048",
   "metadata": {
    "ExecuteTime": {
     "end_time": "2023-09-10T19:03:50.569029888Z",
     "start_time": "2023-09-10T19:03:50.536122845Z"
    }
   },
   "outputs": [],
   "source": [
    "driver.get(url)\n",
    "div = driver.find_element(By.CLASS_NAME, \"searching-words_tabs__uBasL\")"
   ]
  },
  {
   "cell_type": "code",
   "execution_count": 10,
   "id": "2dcaa8c326b31bec",
   "metadata": {
    "ExecuteTime": {
     "end_time": "2023-09-10T19:03:51.399160471Z",
     "start_time": "2023-09-10T19:03:51.352914411Z"
    }
   },
   "outputs": [
    {
     "data": {
      "text/plain": [
       "30"
      ]
     },
     "execution_count": 10,
     "metadata": {},
     "output_type": "execute_result"
    }
   ],
   "source": [
    "a = div.find_elements(By.TAG_NAME, \"a\")\n",
    "len(a)"
   ]
  },
  {
   "cell_type": "code",
   "execution_count": 11,
   "id": "ef2e151dd6aaf8fb",
   "metadata": {
    "ExecuteTime": {
     "end_time": "2023-09-10T19:03:52.223259062Z",
     "start_time": "2023-09-10T19:03:52.182164128Z"
    }
   },
   "outputs": [
    {
     "data": {
      "text/plain": [
       "'https://tochka.com/info/glossary/?ch=%D0%90'"
      ]
     },
     "execution_count": 11,
     "metadata": {},
     "output_type": "execute_result"
    }
   ],
   "source": [
    "a[0].get_attribute(\"href\")"
   ]
  },
  {
   "cell_type": "code",
   "execution_count": 12,
   "id": "9d4ee634c4e54243",
   "metadata": {},
   "outputs": [
    {
     "data": {
      "text/plain": [
       "30"
      ]
     },
     "execution_count": 12,
     "metadata": {},
     "output_type": "execute_result"
    }
   ],
   "source": [
    "hrefs = []\n",
    "for i in a:\n",
    "    hrefs.append(i.get_attribute(\"href\"))\n",
    "len(hrefs)"
   ]
  },
  {
   "cell_type": "code",
   "execution_count": 13,
   "id": "9f8abdc5d510d222",
   "metadata": {
    "ExecuteTime": {
     "end_time": "2023-09-10T19:18:19.586773520Z",
     "start_time": "2023-09-10T19:18:02.324430336Z"
    }
   },
   "outputs": [
    {
     "name": "stdout",
     "output_type": "stream",
     "text": [
      "Stored 360 urls\n",
      "Stored 417 urls\n",
      "Stored 403 urls\n",
      "Stored 219 urls\n",
      "Stored 565 urls\n",
      "Stored 80 urls\n",
      "Stored 0 urls\n",
      "Stored 45 urls\n",
      "Stored 304 urls\n",
      "Stored 274 urls\n",
      "Stored 0 urls\n",
      "Stored 444 urls\n",
      "Stored 73 urls\n",
      "Stored 109 urls\n",
      "Stored 187 urls\n",
      "Stored 276 urls\n",
      "Stored 463 urls\n",
      "Stored 412 urls\n",
      "Stored 439 urls\n",
      "Stored 249 urls\n",
      "Stored 99 urls\n",
      "Stored 183 urls\n",
      "Stored 32 urls\n",
      "Stored 103 urls\n",
      "Stored 119 urls\n",
      "Stored 20 urls\n",
      "Stored 0 urls\n",
      "Stored 202 urls\n",
      "Stored 18 urls\n",
      "Stored 12 urls\n"
     ]
    }
   ],
   "source": [
    "driver.get(url)\n",
    "for i in hrefs:\n",
    "    driver.get(i)\n",
    "    words = driver.find_elements(By.CLASS_NAME, \"word-list_word__vmKRa\")\n",
    "\n",
    "    lst = []\n",
    "    \n",
    "    for word in words:\n",
    "        letter = word.text[0]\n",
    "        url = word.get_attribute(\"href\")\n",
    "        text = word.text\n",
    "        lst.append((letter, url, text))\n",
    "    \n",
    "    print(f\"Stored {len(words)} urls\")\n",
    "    to_add = pd.DataFrame(lst, columns=[\"letter\", \"url\", \"word\"])\n",
    "    dtf = pd.concat([dtf, to_add], ignore_index=True)\n",
    "    "
   ]
  },
  {
   "cell_type": "code",
   "execution_count": 91,
   "id": "dbe540d685b881f7",
   "metadata": {},
   "outputs": [
    {
     "data": {
      "text/plain": [
       "(6107, 5)"
      ]
     },
     "execution_count": 91,
     "metadata": {},
     "output_type": "execute_result"
    }
   ],
   "source": [
    "dtf.shape"
   ]
  },
  {
   "cell_type": "code",
   "execution_count": 80,
   "id": "daf66efa",
   "metadata": {},
   "outputs": [
    {
     "data": {
      "text/html": [
       "<div>\n",
       "<style scoped>\n",
       "    .dataframe tbody tr th:only-of-type {\n",
       "        vertical-align: middle;\n",
       "    }\n",
       "\n",
       "    .dataframe tbody tr th {\n",
       "        vertical-align: top;\n",
       "    }\n",
       "\n",
       "    .dataframe thead th {\n",
       "        text-align: right;\n",
       "    }\n",
       "</style>\n",
       "<table border=\"1\" class=\"dataframe\">\n",
       "  <thead>\n",
       "    <tr style=\"text-align: right;\">\n",
       "      <th></th>\n",
       "      <th>letter</th>\n",
       "      <th>url</th>\n",
       "      <th>word</th>\n",
       "      <th>text1</th>\n",
       "      <th>text2</th>\n",
       "    </tr>\n",
       "  </thead>\n",
       "  <tbody>\n",
       "    <tr>\n",
       "      <th>0</th>\n",
       "      <td>а</td>\n",
       "      <td>https://tochka.com/info/glossary/avans/</td>\n",
       "      <td>аванс</td>\n",
       "      <td>None</td>\n",
       "      <td>None</td>\n",
       "    </tr>\n",
       "    <tr>\n",
       "      <th>1</th>\n",
       "      <td>а</td>\n",
       "      <td>https://tochka.com/info/glossary/avansirovanie...</td>\n",
       "      <td>авансирование бизнеса</td>\n",
       "      <td>None</td>\n",
       "      <td>None</td>\n",
       "    </tr>\n",
       "    <tr>\n",
       "      <th>2</th>\n",
       "      <td>а</td>\n",
       "      <td>https://tochka.com/info/glossary/avansirovanny...</td>\n",
       "      <td>авансированные средства</td>\n",
       "      <td>None</td>\n",
       "      <td>None</td>\n",
       "    </tr>\n",
       "    <tr>\n",
       "      <th>3</th>\n",
       "      <td>а</td>\n",
       "      <td>https://tochka.com/info/glossary/avansirovanny...</td>\n",
       "      <td>авансированный капитал</td>\n",
       "      <td>None</td>\n",
       "      <td>None</td>\n",
       "    </tr>\n",
       "    <tr>\n",
       "      <th>4</th>\n",
       "      <td>а</td>\n",
       "      <td>https://tochka.com/info/glossary/avansovyjj-ot...</td>\n",
       "      <td>авансовый отчет</td>\n",
       "      <td>None</td>\n",
       "      <td>None</td>\n",
       "    </tr>\n",
       "  </tbody>\n",
       "</table>\n",
       "</div>"
      ],
      "text/plain": [
       "  letter                                                url  \\\n",
       "0      а            https://tochka.com/info/glossary/avans/   \n",
       "1      а  https://tochka.com/info/glossary/avansirovanie...   \n",
       "2      а  https://tochka.com/info/glossary/avansirovanny...   \n",
       "3      а  https://tochka.com/info/glossary/avansirovanny...   \n",
       "4      а  https://tochka.com/info/glossary/avansovyjj-ot...   \n",
       "\n",
       "                      word text1 text2  \n",
       "0                    аванс  None  None  \n",
       "1    авансирование бизнеса  None  None  \n",
       "2  авансированные средства  None  None  \n",
       "3   авансированный капитал  None  None  \n",
       "4          авансовый отчет  None  None  "
      ]
     },
     "execution_count": 80,
     "metadata": {},
     "output_type": "execute_result"
    }
   ],
   "source": [
    "dtf[\"text1\"] = None\n",
    "dtf[\"text2\"] = None\n",
    "dtf.head()"
   ]
  },
  {
   "cell_type": "code",
   "execution_count": 116,
   "id": "8d937e8e",
   "metadata": {
    "scrolled": false
   },
   "outputs": [
    {
     "name": "stdout",
     "output_type": "stream",
     "text": [
      "Collected 5070 words --> 83.0%\n",
      "Last word: существенный собственник, являющийся налогоплательщиком сша\n",
      "Collected 5080 words --> 83.0%\n",
      "Last word: транзитная норма\n",
      "Collected 5090 words --> 83.0%\n",
      "Last word: транспорт\n",
      "Collected 5100 words --> 84.0%\n",
      "Last word: транссертификат\n",
      "Collected 5110 words --> 84.0%\n",
      "Last word: трассант\n",
      "Collected 5120 words --> 84.0%\n",
      "Last word: требование о дополнительном обеспечении\n",
      "Collected 5130 words --> 84.0%\n",
      "Last word: трехсторонний договор\n",
      "Collected 5140 words --> 84.0%\n",
      "Last word: трудовой договор, контракт\n",
      "Collected 5150 words --> 84.0%\n",
      "Last word: таксатор\n",
      "Collected 5160 words --> 84.0%\n",
      "Last word: тарифный разряд\n",
      "Collected 5170 words --> 85.0%\n",
      "Last word: твердое предложение\n",
      "Collected 5180 words --> 85.0%\n",
      "Last word: текущие активы\n",
      "Collected 5190 words --> 85.0%\n",
      "Last word: темп прироста\n",
      "Collected 5200 words --> 85.0%\n",
      "Last word: теневая экономика\n",
      "Collected 5210 words --> 85.0%\n",
      "Last word: техника учета\n",
      "Collected 5220 words --> 85.0%\n",
      "Last word: таргетирование\n",
      "Collected 5230 words --> 86.0%\n",
      "Last word: товарищество на паях\n",
      "Collected 5240 words --> 86.0%\n",
      "Last word: товарно-денежные отношения\n",
      "Collected 5250 words --> 86.0%\n",
      "Last word: товарный знак\n",
      "Collected 5260 words --> 86.0%\n",
      "Last word: тоннаж\n",
      "Collected 5270 words --> 86.0%\n",
      "Last word: титризация\n",
      "Collected 5280 words --> 86.0%\n",
      "Last word: торговое право\n",
      "Collected 5290 words --> 87.0%\n",
      "Last word: торговый банк\n",
      "Collected 5300 words --> 87.0%\n",
      "Last word: торговый центр\n",
      "Collected 5310 words --> 87.0%\n",
      "Last word: трамп\n",
      "Collected 5320 words --> 87.0%\n",
      "Last word: управление по отклонениям\n",
      "Collected 5330 words --> 87.0%\n",
      "Last word: управляющий\n",
      "Collected 5340 words --> 87.0%\n",
      "Last word: условия платежа\n",
      "Collected 5350 words --> 88.0%\n",
      "Last word: усреднение\n",
      "Collected 5360 words --> 88.0%\n",
      "Last word: удержания из заработной платы\n",
      "Collected 5370 words --> 88.0%\n",
      "Last word: универсальные банки\n",
      "Collected 5380 words --> 88.0%\n",
      "Last word: управление имуществом\n",
      "Collected 5390 words --> 88.0%\n",
      "Last word: уступка в пользу другого лица\n",
      "Collected 5400 words --> 88.0%\n",
      "Last word: учет долговых требований\n",
      "Collected 5410 words --> 89.0%\n",
      "Last word: учетный процент\n",
      "Collected 5420 words --> 89.0%\n",
      "Last word: физический капитал\n",
      "Collected 5430 words --> 89.0%\n",
      "Last word: фиктивный капитал\n",
      "Collected 5440 words --> 89.0%\n",
      "Last word: форфейтинг, форфети-рование\n",
      "Collected 5450 words --> 89.0%\n",
      "Last word: фрахтовые индексы\n",
      "Collected 5460 words --> 89.0%\n",
      "Last word: функциональная организация маркетинга\n",
      "Collected 5470 words --> 90.0%\n",
      "Last word: фынь\n",
      "Collected 5480 words --> 90.0%\n",
      "Last word: фактические показатели\n",
      "Collected 5490 words --> 90.0%\n",
      "Last word: фактор-компания\n",
      "Collected 5500 words --> 90.0%\n",
      "Last word: фигура\n",
      "Collected 5510 words --> 90.0%\n",
      "Last word: финансовый рычаг\n",
      "Collected 5520 words --> 90.0%\n",
      "Last word: флуктуация\n",
      "Collected 5530 words --> 91.0%\n",
      "Last word: фискальные доходы\n",
      "Collected 5540 words --> 91.0%\n",
      "Last word: фонд возмещения, накопления, потребления\n",
      "Collected 5550 words --> 91.0%\n",
      "Last word: финансовая политика\n",
      "Collected 5560 words --> 91.0%\n",
      "Last word: фондовооруженность\n",
      "Collected 5570 words --> 91.0%\n",
      "Last word: финансовые обязательства\n",
      "Collected 5580 words --> 91.0%\n",
      "Last word: финансовый контроль\n",
      "Collected 5590 words --> 92.0%\n",
      "Last word: фордизм\n",
      "Collected 5600 words --> 92.0%\n",
      "Last word: форма w-8exp\n",
      "Collected 5610 words --> 92.0%\n",
      "Last word: хозяйственные расходы\n",
      "Collected 5620 words --> 92.0%\n",
      "Last word: хорошая поставка\n",
      "Collected 5630 words --> 92.0%\n",
      "Last word: хао\n",
      "Collected 5640 words --> 92.0%\n",
      "Last word: ценовая дискриминация\n",
      "Collected 5650 words --> 93.0%\n",
      "Last word: центр получения прибыли\n",
      "Collected 5660 words --> 93.0%\n",
      "Last word: цикл жизни ценных бумаг\n",
      "Collected 5670 words --> 93.0%\n",
      "Last word: цилиндрический опцион\n",
      "Collected 5680 words --> 93.0%\n",
      "Last word: целевые авансы\n",
      "Collected 5690 words --> 93.0%\n",
      "Last word: цели компании\n",
      "Collected 5700 words --> 93.0%\n",
      "Last word: цена кросс-овер\n",
      "Collected 5710 words --> 93.0%\n",
      "Last word: цена прекращения производства\n",
      "Collected 5720 words --> 94.0%\n",
      "Last word: цена с дивидендом\n",
      "Collected 5730 words --> 94.0%\n",
      "Last word: цена фоб\n",
      "Collected 5740 words --> 94.0%\n",
      "Last word: частичный рабочий\n",
      "Collected 5750 words --> 94.0%\n",
      "Last word: чартист\n",
      "Collected 5760 words --> 94.0%\n",
      "Last word: частное благосостояние\n",
      "Collected 5770 words --> 94.0%\n",
      "Last word: чистая продукция\n",
      "Collected 5780 words --> 95.0%\n",
      "Last word: чистое кредитование\n",
      "Collected 5790 words --> 95.0%\n",
      "Last word: чистые налоги на продукцию\n",
      "Collected 5800 words --> 95.0%\n",
      "Last word: чистый импорт\n",
      "Collected 5810 words --> 95.0%\n",
      "Last word: чистый приток капитала\n",
      "Collected 5820 words --> 95.0%\n",
      "Last word: чрезвычайные расходы\n",
      "Collected 5830 words --> 95.0%\n",
      "Last word: чек против документов\n",
      "Collected 5840 words --> 96.0%\n",
      "Last word: чек-расписка\n",
      "Collected 5850 words --> 96.0%\n",
      "Last word: черный рынок\n",
      "Collected 5860 words --> 96.0%\n",
      "Last word: широкий рынок\n",
      "Collected 5870 words --> 96.0%\n",
      "Last word: шанс\n",
      "Collected 5880 words --> 96.0%\n",
      "Last word: эксцесс\n",
      "Collected 5890 words --> 96.0%\n",
      "Last word: элементы налога\n",
      "Collected 5900 words --> 97.0%\n",
      "Last word: эмиссионная цена\n",
      "Collected 5910 words --> 97.0%\n",
      "Last word: энтропия\n",
      "Collected 5920 words --> 97.0%\n",
      "Last word: этапы жизненного цикла товара\n",
      "Collected 5930 words --> 97.0%\n",
      "Last word: эффект дохода\n",
      "Collected 5940 words --> 97.0%\n",
      "Last word: эффект снобизма\n",
      "Collected 5950 words --> 97.0%\n",
      "Last word: экспорт инфляции\n",
      "Collected 5960 words --> 98.0%\n",
      "Last word: экспортно-кредитное страхование\n",
      "Collected 5970 words --> 98.0%\n",
      "Last word: экспортный факторинг\n",
      "Collected 5980 words --> 98.0%\n",
      "Last word: экономическая свобода\n",
      "Collected 5990 words --> 98.0%\n",
      "Last word: экономические беженцы\n",
      "Collected 6000 words --> 98.0%\n",
      "Last word: экономический анализ\n",
      "Collected 6010 words --> 98.0%\n",
      "Last word: экономический рост\n",
      "Collected 6020 words --> 99.0%\n",
      "Last word: экономический эффект внешней торговли\n",
      "Collected 6030 words --> 99.0%\n",
      "Last word: эквивалентный процентный доход по облигациям\n",
      "Collected 6040 words --> 99.0%\n",
      "Last word: экспортно-импортные банки\n",
      "Collected 6050 words --> 99.0%\n",
      "Last word: экономико-математические модели\n",
      "Collected 6060 words --> 99.0%\n",
      "Last word: экономист\n",
      "Collected 6070 words --> 99.0%\n",
      "Last word: экономическая культура\n",
      "Collected 6080 words --> 100.0%\n",
      "Last word: юрисдикция\n",
      "Collected 6090 words --> 100.0%\n",
      "Last word: юридическая ответственность\n",
      "Collected 6100 words --> 100.0%\n",
      "Last word: японский центр производительности\n"
     ]
    }
   ],
   "source": [
    "count = 5060\n",
    "for i in range(count, dtf.shape[0]):\n",
    "    driver.get(dtf.loc[i][\"url\"])\n",
    "    defs = driver.find_elements(By.CLASS_NAME, \"fs-m.mb-2\")\n",
    "    \n",
    "    if len(defs) == 9:\n",
    "        dtf[\"text1\"][i] = defs[1].text\n",
    "    else:\n",
    "        dtf[\"text1\"][i] = defs[1].text\n",
    "        dtf[\"text2\"][i] = defs[4].text\n",
    "    \n",
    "    count += 1\n",
    "    \n",
    "    if count % 10 == 0:\n",
    "        print(f\"Collected {count} words --> {round(count / len(dtf), 2) * 100}%\")\n",
    "        print(f\"Last word: {dtf.loc[i]['word']}\")\n",
    "        \n",
    "    # not required\n",
    "    sleep(1)"
   ]
  },
  {
   "cell_type": "code",
   "execution_count": 118,
   "id": "b8b1a29d",
   "metadata": {},
   "outputs": [],
   "source": [
    "driver.quit()"
   ]
  },
  {
   "cell_type": "code",
   "execution_count": 117,
   "id": "71574ec4",
   "metadata": {},
   "outputs": [
    {
     "data": {
      "text/html": [
       "<div>\n",
       "<style scoped>\n",
       "    .dataframe tbody tr th:only-of-type {\n",
       "        vertical-align: middle;\n",
       "    }\n",
       "\n",
       "    .dataframe tbody tr th {\n",
       "        vertical-align: top;\n",
       "    }\n",
       "\n",
       "    .dataframe thead th {\n",
       "        text-align: right;\n",
       "    }\n",
       "</style>\n",
       "<table border=\"1\" class=\"dataframe\">\n",
       "  <thead>\n",
       "    <tr style=\"text-align: right;\">\n",
       "      <th></th>\n",
       "      <th>letter</th>\n",
       "      <th>url</th>\n",
       "      <th>word</th>\n",
       "      <th>text1</th>\n",
       "      <th>text2</th>\n",
       "    </tr>\n",
       "  </thead>\n",
       "  <tbody>\n",
       "    <tr>\n",
       "      <th>0</th>\n",
       "      <td>а</td>\n",
       "      <td>https://tochka.com/info/glossary/avans/</td>\n",
       "      <td>аванс</td>\n",
       "      <td>(франц. avance) — предварительная выплата зака...</td>\n",
       "      <td>(фр. avance) — денежные средства, выдаваемые о...</td>\n",
       "    </tr>\n",
       "    <tr>\n",
       "      <th>1</th>\n",
       "      <td>а</td>\n",
       "      <td>https://tochka.com/info/glossary/avansirovanie...</td>\n",
       "      <td>авансирование бизнеса</td>\n",
       "      <td>получение предпринимателем, компанией денежных...</td>\n",
       "      <td>получение бизнесменом денежных средств на осущ...</td>\n",
       "    </tr>\n",
       "    <tr>\n",
       "      <th>2</th>\n",
       "      <td>а</td>\n",
       "      <td>https://tochka.com/info/glossary/avansirovanny...</td>\n",
       "      <td>авансированные средства</td>\n",
       "      <td>см. АВАНСИРОВАННЫЙ КАПИТАЛ.</td>\n",
       "      <td>денежные средства, выданные или выделенные под...</td>\n",
       "    </tr>\n",
       "    <tr>\n",
       "      <th>3</th>\n",
       "      <td>а</td>\n",
       "      <td>https://tochka.com/info/glossary/avansirovanny...</td>\n",
       "      <td>авансированный капитал</td>\n",
       "      <td>капитал в виде денежных средств или имуществен...</td>\n",
       "      <td>денежный капитал, предназначенный для приобрет...</td>\n",
       "    </tr>\n",
       "    <tr>\n",
       "      <th>4</th>\n",
       "      <td>а</td>\n",
       "      <td>https://tochka.com/info/glossary/avansovyjj-ot...</td>\n",
       "      <td>авансовый отчет</td>\n",
       "      <td>документ типовой формы, подтверждающий расходо...</td>\n",
       "      <td>документ типовой формы, подтверждающий расходо...</td>\n",
       "    </tr>\n",
       "    <tr>\n",
       "      <th>...</th>\n",
       "      <td>...</td>\n",
       "      <td>...</td>\n",
       "      <td>...</td>\n",
       "      <td>...</td>\n",
       "      <td>...</td>\n",
       "    </tr>\n",
       "    <tr>\n",
       "      <th>6102</th>\n",
       "      <td>я</td>\n",
       "      <td>https://tochka.com/info/glossary/jarmarka/</td>\n",
       "      <td>ярмарка</td>\n",
       "      <td>1) крупный торг, периодически устраиваемый в о...</td>\n",
       "      <td>None</td>\n",
       "    </tr>\n",
       "    <tr>\n",
       "      <th>6103</th>\n",
       "      <td>я</td>\n",
       "      <td>https://tochka.com/info/glossary/jasak/</td>\n",
       "      <td>ясак</td>\n",
       "      <td>дань, которую платили Русскому Царю северные н...</td>\n",
       "      <td>None</td>\n",
       "    </tr>\n",
       "    <tr>\n",
       "      <th>6104</th>\n",
       "      <td>я</td>\n",
       "      <td>https://tochka.com/info/glossary/jaselnoe-fina...</td>\n",
       "      <td>ясельное финансирование</td>\n",
       "      <td>финансовые ресурсы, инвестиции, вкладываемые в...</td>\n",
       "      <td>None</td>\n",
       "    </tr>\n",
       "    <tr>\n",
       "      <th>6105</th>\n",
       "      <td>я</td>\n",
       "      <td>https://tochka.com/info/glossary/jaselnyjj-pro...</td>\n",
       "      <td>ясельный производственный комплекс</td>\n",
       "      <td>комплекс мелких мастерских, сдаваемых в кратко...</td>\n",
       "      <td>None</td>\n",
       "    </tr>\n",
       "    <tr>\n",
       "      <th>6106</th>\n",
       "      <td>я</td>\n",
       "      <td>https://tochka.com/info/glossary/jashhik/</td>\n",
       "      <td>ящик</td>\n",
       "      <td>сейф в кассовом отделе фирмы, предназначенный ...</td>\n",
       "      <td>None</td>\n",
       "    </tr>\n",
       "  </tbody>\n",
       "</table>\n",
       "<p>6107 rows × 5 columns</p>\n",
       "</div>"
      ],
      "text/plain": [
       "     letter                                                url  \\\n",
       "0         а            https://tochka.com/info/glossary/avans/   \n",
       "1         а  https://tochka.com/info/glossary/avansirovanie...   \n",
       "2         а  https://tochka.com/info/glossary/avansirovanny...   \n",
       "3         а  https://tochka.com/info/glossary/avansirovanny...   \n",
       "4         а  https://tochka.com/info/glossary/avansovyjj-ot...   \n",
       "...     ...                                                ...   \n",
       "6102      я         https://tochka.com/info/glossary/jarmarka/   \n",
       "6103      я            https://tochka.com/info/glossary/jasak/   \n",
       "6104      я  https://tochka.com/info/glossary/jaselnoe-fina...   \n",
       "6105      я  https://tochka.com/info/glossary/jaselnyjj-pro...   \n",
       "6106      я          https://tochka.com/info/glossary/jashhik/   \n",
       "\n",
       "                                    word  \\\n",
       "0                                  аванс   \n",
       "1                  авансирование бизнеса   \n",
       "2                авансированные средства   \n",
       "3                 авансированный капитал   \n",
       "4                        авансовый отчет   \n",
       "...                                  ...   \n",
       "6102                             ярмарка   \n",
       "6103                                ясак   \n",
       "6104             ясельное финансирование   \n",
       "6105  ясельный производственный комплекс   \n",
       "6106                                ящик   \n",
       "\n",
       "                                                  text1  \\\n",
       "0     (франц. avance) — предварительная выплата зака...   \n",
       "1     получение предпринимателем, компанией денежных...   \n",
       "2                           см. АВАНСИРОВАННЫЙ КАПИТАЛ.   \n",
       "3     капитал в виде денежных средств или имуществен...   \n",
       "4     документ типовой формы, подтверждающий расходо...   \n",
       "...                                                 ...   \n",
       "6102  1) крупный торг, периодически устраиваемый в о...   \n",
       "6103  дань, которую платили Русскому Царю северные н...   \n",
       "6104  финансовые ресурсы, инвестиции, вкладываемые в...   \n",
       "6105  комплекс мелких мастерских, сдаваемых в кратко...   \n",
       "6106  сейф в кассовом отделе фирмы, предназначенный ...   \n",
       "\n",
       "                                                  text2  \n",
       "0     (фр. avance) — денежные средства, выдаваемые о...  \n",
       "1     получение бизнесменом денежных средств на осущ...  \n",
       "2     денежные средства, выданные или выделенные под...  \n",
       "3     денежный капитал, предназначенный для приобрет...  \n",
       "4     документ типовой формы, подтверждающий расходо...  \n",
       "...                                                 ...  \n",
       "6102                                               None  \n",
       "6103                                               None  \n",
       "6104                                               None  \n",
       "6105                                               None  \n",
       "6106                                               None  \n",
       "\n",
       "[6107 rows x 5 columns]"
      ]
     },
     "execution_count": 117,
     "metadata": {},
     "output_type": "execute_result"
    }
   ],
   "source": [
    "dtf"
   ]
  },
  {
   "cell_type": "code",
   "execution_count": 119,
   "id": "f636edb5",
   "metadata": {},
   "outputs": [
    {
     "name": "stdout",
     "output_type": "stream",
     "text": [
      "<class 'pandas.core.frame.DataFrame'>\n",
      "RangeIndex: 6107 entries, 0 to 6106\n",
      "Data columns (total 5 columns):\n",
      " #   Column  Non-Null Count  Dtype \n",
      "---  ------  --------------  ----- \n",
      " 0   letter  6107 non-null   object\n",
      " 1   url     6107 non-null   object\n",
      " 2   word    6107 non-null   object\n",
      " 3   text1   6107 non-null   object\n",
      " 4   text2   1096 non-null   object\n",
      "dtypes: object(5)\n",
      "memory usage: 238.7+ KB\n"
     ]
    }
   ],
   "source": [
    "dtf.info()"
   ]
  },
  {
   "cell_type": "code",
   "execution_count": 120,
   "id": "47894efe",
   "metadata": {},
   "outputs": [],
   "source": [
    "dtf.to_csv(\"all_defs.csv\")"
   ]
  },
  {
   "cell_type": "code",
   "execution_count": null,
   "id": "a48dd799",
   "metadata": {},
   "outputs": [],
   "source": []
  }
 ],
 "metadata": {
  "kernelspec": {
   "display_name": "Python 3 (ipykernel)",
   "language": "python",
   "name": "python3"
  },
  "language_info": {
   "codemirror_mode": {
    "name": "ipython",
    "version": 3
   },
   "file_extension": ".py",
   "mimetype": "text/x-python",
   "name": "python",
   "nbconvert_exporter": "python",
   "pygments_lexer": "ipython3",
   "version": "3.10.12"
  }
 },
 "nbformat": 4,
 "nbformat_minor": 5
}
